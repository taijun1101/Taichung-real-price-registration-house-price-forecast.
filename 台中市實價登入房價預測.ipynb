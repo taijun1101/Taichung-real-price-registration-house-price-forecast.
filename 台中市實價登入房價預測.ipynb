{
 "cells": [
  {
   "cell_type": "markdown",
   "metadata": {},
   "source": [
    "***基礎套件匯入***"
   ]
  },
  {
   "cell_type": "code",
   "execution_count": 28,
   "metadata": {},
   "outputs": [],
   "source": [
    "import pandas as pd\n",
    "import numpy as np\n",
    "import math\n",
    "import matplotlib.pyplot as plt\n",
    "import seaborn as sns"
   ]
  },
  {
   "cell_type": "markdown",
   "metadata": {},
   "source": [
    "***讀取資料及資料合併與資料觀察***"
   ]
  },
  {
   "cell_type": "code",
   "execution_count": 29,
   "metadata": {},
   "outputs": [
    {
     "name": "stdout",
     "output_type": "stream",
     "text": [
      "           ID  行政區    土地面積   建物總面積 都市土地使用分區    交易年月日     建築完成年月 移轉層次 總樓層數  \\\n",
      "0       46759  烏日區   22.78  172.74        商  1101226  1100621.0   三層  十四層   \n",
      "1       69168  豐原區  172.18  188.86        商  1090212   650731.0    全   二層   \n",
      "2       60602  北屯區   24.91  175.77        住  1090313  1100925.0   九層  十二層   \n",
      "3      136756  豐原區   15.05  103.41        商  1041110  1060816.0   九層  十二層   \n",
      "4       36267   南區   14.46   33.59        住  1110502   691231.0   四層   五層   \n",
      "...       ...  ...     ...     ...      ...      ...        ...  ...  ...   \n",
      "29995   19567   南區   33.14  241.10        住  1111004   811120.0  十一層  十四層   \n",
      "29996   43441  北屯區   28.15  232.41        住  1081015  1110112.0   二層  十五層   \n",
      "29997   48392  大雅區   28.92  111.59        住  1101112  1030226.0   六層   七層   \n",
      "29998   73740   南區    8.31  107.22        商  1081017   880208.0   十層  十四層   \n",
      "29999    1868  西屯區   22.21  205.10        住  1051031    0821214   七層  十四層   \n",
      "\n",
      "                  建物型態  ...       用途 房數  廳數  衛數  隔間 有無管理組織  車位類別 車位移轉總面積  \\\n",
      "0      住宅大樓(11層含以上有電梯)  ...      住家用  2   2   2   有      有  坡道平面    0.00   \n",
      "1                  透天厝  ...      住家用  8   2   3   有      無   NaN     NaN   \n",
      "2      住宅大樓(11層含以上有電梯)  ...      住家用  3   2   2   有      有  坡道平面   42.86   \n",
      "3      住宅大樓(11層含以上有電梯)  ...  見其他登記事項  2   1   1   有      有  坡道機械   12.33   \n",
      "4         公寓(5樓含以下無電梯)  ...      住家用  2   1   1   有      無   NaN    0.00   \n",
      "...                ...  ...      ... ..  ..  ..  ..    ...   ...     ...   \n",
      "29995  住宅大樓(11層含以上有電梯)  ...      住家用  6   2   2   有      有  坡道機械    0.00   \n",
      "29996  住宅大樓(11層含以上有電梯)  ...      住家用  4   2   2   有      有  坡道平面   47.94   \n",
      "29997    華廈(10層含以下有電梯)  ...      住家用  2   2   2   有      有  坡道機械   13.89   \n",
      "29998  住宅大樓(11層含以上有電梯)  ...      住家用  3   2   2   有      有   NaN    0.00   \n",
      "29999  住宅大樓(11層含以上有電梯)  ...      住家用  3   2   2   有      有  坡道平面    0.00   \n",
      "\n",
      "        車位總價      總價  \n",
      "0        0.0  1225.0  \n",
      "1        0.0  1730.0  \n",
      "2      130.0  1097.0  \n",
      "3       75.0   695.0  \n",
      "4        0.0   250.0  \n",
      "...      ...     ...  \n",
      "29995  100.0     NaN  \n",
      "29996  270.0     NaN  \n",
      "29997    0.0     NaN  \n",
      "29998    0.0     NaN  \n",
      "29999    0.0     NaN  \n",
      "\n",
      "[156966 rows x 21 columns]\n"
     ]
    }
   ],
   "source": [
    "train = pd.read_csv('train.csv')\n",
    "test = pd.read_csv('test.csv')\n",
    "all_data = pd.concat([train,test],axis = 0)\n",
    "print(all_data)"
   ]
  },
  {
   "cell_type": "code",
   "execution_count": 30,
   "metadata": {},
   "outputs": [
    {
     "name": "stdout",
     "output_type": "stream",
     "text": [
      "<class 'pandas.core.frame.DataFrame'>\n",
      "Index: 156966 entries, 0 to 29999\n",
      "Data columns (total 21 columns):\n",
      " #   Column    Non-Null Count   Dtype  \n",
      "---  ------    --------------   -----  \n",
      " 0   ID        156966 non-null  int64  \n",
      " 1   行政區       156966 non-null  object \n",
      " 2   土地面積      156966 non-null  float64\n",
      " 3   建物總面積     156966 non-null  float64\n",
      " 4   都市土地使用分區  156966 non-null  object \n",
      " 5   交易年月日     156966 non-null  int64  \n",
      " 6   建築完成年月    156210 non-null  object \n",
      " 7   移轉層次      156241 non-null  object \n",
      " 8   總樓層數      156831 non-null  object \n",
      " 9   建物型態      156966 non-null  object \n",
      " 10  主要建材      156842 non-null  object \n",
      " 11  用途        156788 non-null  object \n",
      " 12  房數        156966 non-null  int64  \n",
      " 13  廳數        156966 non-null  int64  \n",
      " 14  衛數        156966 non-null  int64  \n",
      " 15  隔間        156966 non-null  object \n",
      " 16  有無管理組織    156966 non-null  object \n",
      " 17  車位類別      92452 non-null   object \n",
      " 18  車位移轉總面積   145978 non-null  float64\n",
      " 19  車位總價      156966 non-null  float64\n",
      " 20  總價        126966 non-null  float64\n",
      "dtypes: float64(5), int64(5), object(11)\n",
      "memory usage: 26.3+ MB\n"
     ]
    }
   ],
   "source": [
    "all_data.info()"
   ]
  },
  {
   "cell_type": "markdown",
   "metadata": {},
   "source": [
    "***遺漏值觀察***"
   ]
  },
  {
   "cell_type": "code",
   "execution_count": 31,
   "metadata": {},
   "outputs": [
    {
     "data": {
      "text/plain": [
       "ID              0\n",
       "行政區             0\n",
       "土地面積            0\n",
       "建物總面積           0\n",
       "都市土地使用分區        0\n",
       "交易年月日           0\n",
       "建築完成年月        756\n",
       "移轉層次          725\n",
       "總樓層數          135\n",
       "建物型態            0\n",
       "主要建材          124\n",
       "用途            178\n",
       "房數              0\n",
       "廳數              0\n",
       "衛數              0\n",
       "隔間              0\n",
       "有無管理組織          0\n",
       "車位類別        64514\n",
       "車位移轉總面積     10988\n",
       "車位總價            0\n",
       "總價          30000\n",
       "dtype: int64"
      ]
     },
     "execution_count": 31,
     "metadata": {},
     "output_type": "execute_result"
    }
   ],
   "source": [
    "missing_value = all_data.isnull().sum()\n",
    "missing_value"
   ]
  },
  {
   "cell_type": "markdown",
   "metadata": {},
   "source": [
    "***刪除非必要特徵***"
   ]
  },
  {
   "cell_type": "code",
   "execution_count": 32,
   "metadata": {},
   "outputs": [],
   "source": [
    "all_data = all_data.drop(columns=['總價','ID','車位類別'])\n",
    "train = train.drop(columns=['ID','車位類別'])\n",
    "test = test.drop(columns=['ID','車位類別'])"
   ]
  },
  {
   "cell_type": "markdown",
   "metadata": {},
   "source": [
    "***類別型特徵與數值型特徵分離***"
   ]
  },
  {
   "cell_type": "code",
   "execution_count": 33,
   "metadata": {},
   "outputs": [
    {
     "name": "stdout",
     "output_type": "stream",
     "text": [
      "['行政區', '都市土地使用分區', '建築完成年月', '移轉層次', '總樓層數', '建物型態', '主要建材', '用途', '隔間', '有無管理組織']\n",
      "['土地面積', '建物總面積', '交易年月日', '房數', '廳數', '衛數', '車位移轉總面積', '車位總價']\n"
     ]
    }
   ],
   "source": [
    "features = all_data.columns\n",
    "\n",
    "categorical_cols = []\n",
    "numerical_cols = []\n",
    "\n",
    "for i in features:\n",
    "    if all_data[i].dtype == 'object':\n",
    "        categorical_cols.append(i)\n",
    "    else:\n",
    "        numerical_cols.append(i)\n",
    "print(categorical_cols)\n",
    "print(numerical_cols)"
   ]
  },
  {
   "cell_type": "code",
   "execution_count": 34,
   "metadata": {},
   "outputs": [],
   "source": [
    "test = test.replace('066  25',np.nan)\n",
    "test = test.replace('---',np.nan)"
   ]
  },
  {
   "cell_type": "markdown",
   "metadata": {},
   "source": [
    "***針對建築完成年月做數據前處理***"
   ]
  },
  {
   "cell_type": "code",
   "execution_count": 35,
   "metadata": {},
   "outputs": [
    {
     "data": {
      "text/plain": [
       "0"
      ]
     },
     "execution_count": 35,
     "metadata": {},
     "output_type": "execute_result"
    }
   ],
   "source": [
    "all_data['建築完成年月'] = all_data['建築完成年月'].astype(str).str.replace(r'\\D', '', regex=True)\n",
    "all_data['建築完成年月'] = pd.to_numeric(all_data['建築完成年月'], errors='coerce')\n",
    "\n",
    "\n",
    "median = all_data['建築完成年月'].median()\n",
    "all_data['建築完成年月'].fillna(median, inplace=True)\n",
    "\n",
    "missing_building_year = all_data['建築完成年月'].isnull().sum()\n",
    "\n",
    "missing_building_year\n"
   ]
  },
  {
   "cell_type": "markdown",
   "metadata": {},
   "source": [
    "***總樓層數數據觀察***"
   ]
  },
  {
   "cell_type": "code",
   "execution_count": 36,
   "metadata": {},
   "outputs": [
    {
     "data": {
      "text/plain": [
       "array(['十四層', '二層', '十二層', '五層', '二十五層', '三十二層', '三層', '二十四層', '十五層',\n",
       "       '二十層', '二十二層', '七層', '十八層', '四層', '十六層', '二十六層', '二十一層', '十九層',\n",
       "       '二十三層', '十一層', '九層', '二十九層', '十層', '十三層', '八層', '十七層', '一層',\n",
       "       '二十七層', '二十八層', '六層', '三十五層', '三十八層', nan, '三十層', '三十九層', '四十一層',\n",
       "       '四十二層', '三十四層', '三十三層', '三十七層', '三十一層', '(空白)', '三十六層', '見其他登記事項'],\n",
       "      dtype=object)"
      ]
     },
     "execution_count": 36,
     "metadata": {},
     "output_type": "execute_result"
    }
   ],
   "source": [
    "all_data['總樓層數'].unique()"
   ]
  },
  {
   "cell_type": "markdown",
   "metadata": {},
   "source": [
    "***針對總樓層數做數據前處理***"
   ]
  },
  {
   "cell_type": "code",
   "execution_count": 37,
   "metadata": {},
   "outputs": [],
   "source": [
    "import re\n",
    "def chinese_to_arabic(cn):\n",
    "    numerals = {\n",
    "        '零': 0, '一': 1, '二': 2, '三': 3, '四': 4,\n",
    "        '五': 5, '六': 6, '七': 7, '八': 8, '九': 9,\n",
    "        '十': 10\n",
    "    }\n",
    "    \n",
    "    if cn in numerals:\n",
    "        return numerals[cn]\n",
    "    \n",
    "    if '十' in cn:\n",
    "        if cn.index('十') == 0:\n",
    "            return 10 + numerals.get(cn[1], 0)\n",
    "        else:\n",
    "            return numerals[cn[0]] * 10 + numerals.get(cn[2], 0)\n",
    "    return None\n",
    "\n",
    "all_data['總樓層數'] = all_data['總樓層數'].replace(['(空白)','見其他登記事項',np.nan],'無')\n",
    "all_data['總樓層數'] = all_data['總樓層數'].astype(str).apply(lambda x: chinese_to_arabic(x) if re.search('[\\u4e00-\\u9fa5]', x) else x)\n",
    "all_data['總樓層數'] = pd.to_numeric(all_data['總樓層數'], errors='coerce')\n",
    "\n",
    "train['總樓層數'] = train['總樓層數'].astype(str).apply(lambda x: chinese_to_arabic(x) if re.search('[\\u4e00-\\u9fa5]', x) else x)\n",
    "train['總樓層數'] = pd.to_numeric(train['總樓層數'], errors='coerce')\n",
    "\n",
    "test['總樓層數'] = test['總樓層數'].astype(str).apply(lambda x: chinese_to_arabic(x) if re.search('[\\u4e00-\\u9fa5]', x) else x)\n",
    "test['總樓層數'] = pd.to_numeric(test['總樓層數'], errors='coerce')\n",
    "\n",
    "#categorical_cols.remove('總樓層數')\n",
    "#numerical_cols.append('總樓層數')"
   ]
  },
  {
   "cell_type": "code",
   "execution_count": 38,
   "metadata": {},
   "outputs": [
    {
     "data": {
      "text/plain": [
       "0        14.0\n",
       "1         NaN\n",
       "2        12.0\n",
       "3        12.0\n",
       "4         NaN\n",
       "         ... \n",
       "29995    14.0\n",
       "29996    15.0\n",
       "29997     NaN\n",
       "29998    14.0\n",
       "29999    14.0\n",
       "Name: 總樓層數, Length: 156966, dtype: float64"
      ]
     },
     "execution_count": 38,
     "metadata": {},
     "output_type": "execute_result"
    }
   ],
   "source": [
    "all_data['總樓層數']"
   ]
  },
  {
   "cell_type": "markdown",
   "metadata": {},
   "source": [
    "***都市土地使用分區數據觀察***"
   ]
  },
  {
   "cell_type": "code",
   "execution_count": 39,
   "metadata": {},
   "outputs": [
    {
     "data": {
      "text/plain": [
       "array(['商', '住', '其他'], dtype=object)"
      ]
     },
     "execution_count": 39,
     "metadata": {},
     "output_type": "execute_result"
    }
   ],
   "source": [
    "all_data['都市土地使用分區'].unique()"
   ]
  },
  {
   "cell_type": "markdown",
   "metadata": {},
   "source": [
    "***移轉層次數據觀察***"
   ]
  },
  {
   "cell_type": "code",
   "execution_count": 40,
   "metadata": {},
   "outputs": [
    {
     "data": {
      "text/plain": [
       "array(['三層', '全', '九層', '四層', '八層', '三十層', '十二層', '五層', '六層', '七層', '十一層',\n",
       "       '二十四層', '十四層', '一層，騎樓，夾層', '十五層', '十七層', '二層', '十層',\n",
       "       '一層，二層，騎樓，夾層，地下一層', '十三層', '十八層', '二十層', '五層，六層', '十九層', '十六層',\n",
       "       '一層，騎樓', '一層，二層，騎樓', '一層，二層', '二十二層', nan, '一層，二層，三層', '二十一層',\n",
       "       '十四層，十五層，十六層', '一層，見其他登記事項', '一層', '十三層，十四層', '二十六層', '二層，電梯樓梯間',\n",
       "       '七層，八層', '三十一層', '二十三層', '一層，騎樓，地下層', '二十三層，二十四層，二十五層', '二層，三層',\n",
       "       '二十五層', '一層，二層，三層，地下一層，見其他登記事項', '二十八層', '地下層',\n",
       "       '一層，二層，三層，四層，見其他登記事項', '一層，地下層', '一層，二層，三層，騎樓，見其他登記事項', '二十九層',\n",
       "       '十五層，十六層', '八層，夾層', '地下一層', '九層，十層', '十九層，二十層', '二十七層',\n",
       "       '二十一層，二十二層', '一層，二層，三層，屋頂突出物，地下層', '十二層，十三層', '五層，見其他登記事項',\n",
       "       '二十五層，二十六層', '八層，九層', '一層，二層，騎樓，地下層', '一層，二層，夾層，見其他登記事項',\n",
       "       '十七層，十八層', '二層，見其他登記事項', '一層，騎樓，夾層，地下層', '六層，七層', '一層，地下一層',\n",
       "       '一層，二層，三層，騎樓，地下一層，見其他登記事項', '一層，二層，騎樓，夾層', '十六層，十七層', '一層，夾層',\n",
       "       '一層，二層，三層，騎樓', '十二層，見其他登記事項', '三十九層', '十四層，十五層', '二層，陽台',\n",
       "       '夾層，地下一層', '一層，夾層，地下層', '十九層，見其他登記事項', '十層，十一層', '十一層，十二層',\n",
       "       '五層，電梯樓梯間', '一層，騎樓，地下一層', '十四層，見其他登記事項', '三十三層', '一層，騎樓，見其他登記事項',\n",
       "       '五層，屋頂突出物', '四層，騎樓', '十八層，十九層', '二十九層，見其他登記事項', '一層，二層，見其他登記事項',\n",
       "       '地下二層', '四層，五層', '三十二層', '十層，見其他登記事項', '九層，見其他登記事項', '四層，電梯樓梯間',\n",
       "       '一層，二層，騎樓，電梯樓梯間', '一層，騎樓，夾層，地下一層', '一層，二層，騎樓，地下一層', '一層，二層，夾層',\n",
       "       '二層，夾層', '一層，二層，三層，屋頂突出物，騎樓', '一層，二層，三層，見其他登記事項',\n",
       "       '一層，二層，三層，四層，地下層', '一層，二層，三層，四層，五層，騎樓', '七層，見其他登記事項',\n",
       "       '一層，二層，騎樓，見其他登記事項', '二層，騎樓', '一層，二層，三層，四層，屋頂突出物，地下一層', '五層，夾層',\n",
       "       '十六層，十七層，十八層', '一層，二層，地下一層', '一層，二層，三層，四層，屋頂突出物', '二十三層，二十四層',\n",
       "       '二十二層，二十三層', '三十五層', '十一層，屋頂突出物', '三層，四層', '三十八層', '一層，二層，三層，地下層',\n",
       "       '二層，三層，四層', '十四層，夾層', '四層，五層，夾層', '三十七層',\n",
       "       '一層，二層，三層，四層，五層，六層，七層，騎樓，地下層', '一層，二層，三層，四層，騎樓，地下二層', '七層，屋頂突出物',\n",
       "       '二十四層，二十五層', '一層，二層，三層，四層，五層，騎樓，地下層', '一層，二層，三層，騎樓，地下一層',\n",
       "       '二十層，二十一層', '一層，二層，三層，四層', '一層，二層，三層，夾層', '十層，電梯樓梯間', '二層，一層',\n",
       "       '十二層，夾層', '一層，二層，騎樓，夾層，地下層', '地下三層', '一層，二層，三層，四層，騎樓',\n",
       "       '一層，二層，三層，屋頂突出物', '三層，電梯樓梯間', '十層，十一層，十二層', '三十六層',\n",
       "       '一層，二層，三層，四層，五層，六層，七層，騎樓，見其它登記事項', '七層，走廊', '三十八層，三十九層', '三層，夾層',\n",
       "       '一層，二層，見其它登記事項', '一層，二層，三層，四層，地下一層，見其他登記事項', '五層，騎樓',\n",
       "       '三層，四層，屋頂突出物', '一層，二層，三層，四層，五層', '八層，走廊', '一層，二層，三層，四層，屋頂突出物，地下層',\n",
       "       '一層，二層，三層，地下層，見其他登記事項', '二層，三層，四層，屋頂突出物', '一層，二層，地下層',\n",
       "       '一層，二層，三層，四層，五層，六層，七層，八層，九層，十層，十一層，十二層，騎樓', '三十四層', '一層，二層，三層，陽台',\n",
       "       '騎樓，夾層', '一層，二層，三層，四層，騎樓，見其他登記事項', '四層，走廊', '九層，夾層', '三十七層，三十八層',\n",
       "       '一層，二層，三層，四層，屋頂突出物，騎樓', '四層，陽台', '三十五層，三十六層', '一層，二層，三層，地下一層',\n",
       "       '六層，夾層', '四層，見其他登記事項', '一層，二層，三層，四層，五層，地下一層，見其他登記事項',\n",
       "       '一層，二層，三層，騎樓，地下層', '一層，二層，三層，四層，地下一層', '三層，陽台', '二十七層，二十八層',\n",
       "       '六層，電梯樓梯間', '四層，瞭望室', '三層，騎樓', '一層，二層，三層，四層，騎樓，地下層',\n",
       "       '二十四層，見其他登記事項', '六層，騎樓', '三層，地下層', '二層，一層，騎樓', '二十五層，二十六層，夾層',\n",
       "       '七層，見其它登記事項', '一層，騎樓，電梯樓梯間', '四層，五層，屋頂突出物', '九層，十層，十一層',\n",
       "       '地下一層，地下二層', '三十六層，三十七層', '二層，三層，四層，騎樓', '八層，屋頂突出物', '二十八層，二十九層',\n",
       "       '四十層，四十一層', '八層，電梯樓梯間', '四層，五層，六層', '四層，夾層',\n",
       "       '一層，二層，三層，四層，五層，見其他登記事項', '九層，電梯樓梯間', '四層，屋頂突出物', '十一層，見其他登記事項',\n",
       "       '見其他登記事項', '騎樓，四層', '十五層，夾層', '七層，地下層', '一層，見其它登記事項', '一層，通道',\n",
       "       '一層，二層，電梯樓梯間', '六層，走廊', '二十層，夾層', '三層，四層，五層', '十一層，夾層', '一層，電梯樓梯間',\n",
       "       '一層，二層，三層，四層，五層，六層', '夾層，騎樓，二層，一層', '屋頂突出物', '一層，二層，三層，屋頂突出物，地下一層',\n",
       "       '五層，六層，七層', '二十六層，二十七層', '三十層，三十一層', '一層，電梯樓梯間，地下層',\n",
       "       '一層，二層，三層，四層，五層，騎樓，見其他登記事項',\n",
       "       '一層，二層，三層，四層，五層，六層，七層，八層，九層，十層，十一層，屋頂突出物，騎樓，地下一層，地下二層',\n",
       "       '騎樓，三層，二層，一層', '二層，三層，四層，五層', '二層，地下層', '一層，二層，三層，騎樓，夾層'],\n",
       "      dtype=object)"
      ]
     },
     "execution_count": 40,
     "metadata": {},
     "output_type": "execute_result"
    }
   ],
   "source": [
    "all_data['移轉層次'].unique()"
   ]
  },
  {
   "cell_type": "markdown",
   "metadata": {},
   "source": [
    "***針對移轉層次做數據前處理***"
   ]
  },
  {
   "cell_type": "code",
   "execution_count": 41,
   "metadata": {},
   "outputs": [],
   "source": [
    "#all_data['移轉層次'] = all_data['移轉層次'].replace('見其他登記事項', '無')\n",
    "#all_data['移轉層次'] = all_data['移轉層次'].str.replace('見其他登記事項', '')\n",
    "#all_data['移轉層次'].unique()\n",
    "\n",
    "#train['移轉層次'] = train['移轉層次'].replace('見其他登記事項', '無')\n",
    "#train['移轉層次'] = train['移轉層次'].str.replace('見其他登記事項', '')\n",
    "\n",
    "#test['移轉層次'] = test['移轉層次'].replace('見其他登記事項', '無')\n",
    "#test['移轉層次'] = test['移轉層次'].str.replace('見其他登記事項', '')"
   ]
  },
  {
   "cell_type": "markdown",
   "metadata": {},
   "source": [
    "***建物型態數據觀察***"
   ]
  },
  {
   "cell_type": "code",
   "execution_count": 42,
   "metadata": {},
   "outputs": [
    {
     "data": {
      "text/plain": [
       "array(['住宅大樓(11層含以上有電梯)', '透天厝', '公寓(5樓含以下無電梯)', '華廈(10層含以下有電梯)',\n",
       "       '套房(1房1廳1衛)'], dtype=object)"
      ]
     },
     "execution_count": 42,
     "metadata": {},
     "output_type": "execute_result"
    }
   ],
   "source": [
    "all_data['建物型態'].unique()"
   ]
  },
  {
   "cell_type": "markdown",
   "metadata": {},
   "source": [
    "***用途數據觀察***"
   ]
  },
  {
   "cell_type": "code",
   "execution_count": 43,
   "metadata": {},
   "outputs": [
    {
     "data": {
      "text/plain": [
       "array(['住家用', '見其他登記事項', '住商用', '見其它登記事項', '其他', '商業用', '工商用', nan, '辦公用',\n",
       "       '國民住宅', '商辦用', '住工用', '工業用', '住商辦用', '住宅、住宅附屬停車空間、樓梯間、電梯間',\n",
       "       '見使用執照', '農舍', '住宅、停車空間、樓梯間', '農業用'], dtype=object)"
      ]
     },
     "execution_count": 43,
     "metadata": {},
     "output_type": "execute_result"
    }
   ],
   "source": [
    "all_data['用途'].unique()"
   ]
  },
  {
   "cell_type": "markdown",
   "metadata": {},
   "source": [
    "***針對用途進行數據前處理***"
   ]
  },
  {
   "cell_type": "code",
   "execution_count": 44,
   "metadata": {},
   "outputs": [],
   "source": [
    "#all_data['用途'] = all_data['用途'].replace(['見其他登記事項','見其它登記事項','其他','見使用執照'],'無')\n",
    "\n",
    "#train['用途'] = train['用途'].replace(['見其他登記事項','見其它登記事項','其他','見使用執照'],'無')\n",
    "\n",
    "#test['用途'] = test['用途'].replace(['見其他登記事項','見其它登記事項','其他','見使用執照'],'無')"
   ]
  },
  {
   "cell_type": "markdown",
   "metadata": {},
   "source": [
    "***有無管理組織數據觀察***"
   ]
  },
  {
   "cell_type": "code",
   "execution_count": 45,
   "metadata": {},
   "outputs": [
    {
     "data": {
      "text/plain": [
       "array(['有', '無'], dtype=object)"
      ]
     },
     "execution_count": 45,
     "metadata": {},
     "output_type": "execute_result"
    }
   ],
   "source": [
    "all_data['有無管理組織'].unique()"
   ]
  },
  {
   "cell_type": "markdown",
   "metadata": {},
   "source": [
    "***行政區數據觀察***"
   ]
  },
  {
   "cell_type": "code",
   "execution_count": 46,
   "metadata": {},
   "outputs": [
    {
     "data": {
      "text/plain": [
       "array(['烏日區', '豐原區', '北屯區', '南區', '北區', '沙鹿區', '南屯區', '東區', '西屯區', '大里區',\n",
       "       '大雅區', '西區', '神岡區', '潭子區', '大肚區', '中區'], dtype=object)"
      ]
     },
     "execution_count": 46,
     "metadata": {},
     "output_type": "execute_result"
    }
   ],
   "source": [
    "all_data['行政區'].unique()"
   ]
  },
  {
   "cell_type": "markdown",
   "metadata": {},
   "source": [
    "***主要建材數據觀察***"
   ]
  },
  {
   "cell_type": "code",
   "execution_count": 47,
   "metadata": {},
   "outputs": [
    {
     "data": {
      "text/plain": [
       "array(['鋼筋混凝土造', '加強磚造', '鋼筋混凝土加強磚造', '見其他登記事項', '鋼骨鋼筋混凝土造', '磚造', 'ＲＣ造',\n",
       "       '鐵筋加強磚造', '見其它登記事項', '鋼骨混凝土造', '鋼骨造', 'RC構造', '磚造瓦頂', nan,\n",
       "       '磨石地床、水泥平頂、加強磚造', '木造', '鋼架造', '土造', '鋼骨鋼筋混凝土造、鋼筋混凝土造', '鐵筋磚造蓋瓦頂',\n",
       "       '鋼造', 'ＲＣ鋼筋混凝土造', '加強磚造\\u3000鋼架造', '鋼骨鋼筋混凝土造，鋼筋混凝土造，鋼骨造',\n",
       "       '鐵架無壁石棉浪板頂、水泥地床', '\\ueed5筋加強磚造', '加強磚造、水泥平頂、磨石地床、二層水泥地床', '鐵筋混凝土造',\n",
       "       '煉瓦木混', '水泥平頂、加強磚造、磨石地床', '鋼構鋼筋混凝土造', 'RC造', '鐵筋磚造', '鐵筋加強磚',\n",
       "       '磚造、瓦頂、水泥地床造', '木石磚造', '加強磚造、鋼骨造', '鋼筋混凝土造、木造', 'ＲＣ加磚', '鐵造',\n",
       "       '水泥平頂、磨石地床、加強磚造', '鐵筋磚造蓋水泥', '鐵筋磚造水泥頂', '預力混凝土造', '鋼鐵造', '鋼架構造',\n",
       "       'ＲＣ及加磚', '加強磚造、瓦頂、磨石地床', '鐵筋加強磚造蓋瓦頂', '鋼骨ＲＣ造', '鋼骨', '磚造及磚木造蓋瓦頂',\n",
       "       '磚木造', '加強磚造、水泥平頂、磨石地床、水泥地床', '鋼筋混凝土造\\u3000構架造', '加強磚造、水泥平頂、磨石地床',\n",
       "       '加強磚造．鋼筋混凝土造', '鋼骨造、鋼筋混凝土造', '磚造、水泥瓦頂、磨石地床', '鋼構造', '雜木造',\n",
       "       '加強\\ueed5筋磚造', '加強磚造、水泥平頂、水泥地床、磨石地床', '磨石地床、加強磚造、水泥平頂',\n",
       "       '鋼筋混凝土造\\u3000鋼架造', '土磚石混合造', '磚造蓋瓦頂', '土竹造（純土造）',\n",
       "       '鋼磚地床、磨石地床、水泥平頂、加強磚造', '鋼鐵造（有牆）', '鋼筋混凝土、加強磚造', '鐵筋磚造水泥平頂',\n",
       "       '鋼筋混凝土造、鋼鐵造', '鋼架造有牆', '石造', '鋼架造、鋼骨造', '加強磚造、水泥平頂、水泥地床',\n",
       "       '加強磚造蓋瓦頂', '人行道、店鋪', '水泥底平頂、加強磚造', '磚石造', '木構造、鋼架造',\n",
       "       '加強磚造、水泥平頂、水泥地床、瓦頂', '加強磚造、磨石地床、平頂', '加強磚造、構架造', '鋼筋混凝土造，鋼架構造',\n",
       "       '木石磚造（雜木）', '鐵筋加強磚造．ＲＣ造', '木石磚造（磚石造）', 'Ｒ．Ｃ．加強磚造', '鋼筋混凝土加強空心磚造',\n",
       "       '鋼筋混凝土造、鋼骨造', '鋼筋加強造', '二樓塑膠地床、磨石地床、水泥平頂、加強磚造', '鐵架造', '構架造',\n",
       "       'ＲＣ構架造', 'ＲＣ、加磚', '加強磚造、木石磚造（磚石造）', '土木造', '鋼骨、ＲＣ造', 'ＲＣ構造',\n",
       "       '加強磚造及木造', '鋼筋混凝土造、水泥平頂、磨石地床', '土竹造', '鐵筋加強磚造水泥頂', 'ＳＲＣ造',\n",
       "       '鐵筋磚造蓋瓦頂及鉛板頂', '鋼骨造、鋼架構造', '鋼骨造鋼架造', '鐵筋加強磚造、鋼筋混凝土造'], dtype=object)"
      ]
     },
     "execution_count": 47,
     "metadata": {},
     "output_type": "execute_result"
    }
   ],
   "source": [
    "all_data['主要建材'].unique()"
   ]
  },
  {
   "cell_type": "markdown",
   "metadata": {},
   "source": [
    "***隔間數據觀察***"
   ]
  },
  {
   "cell_type": "code",
   "execution_count": 48,
   "metadata": {},
   "outputs": [
    {
     "data": {
      "text/plain": [
       "array(['有', '無'], dtype=object)"
      ]
     },
     "execution_count": 48,
     "metadata": {},
     "output_type": "execute_result"
    }
   ],
   "source": [
    "all_data['隔間'].unique()"
   ]
  },
  {
   "cell_type": "markdown",
   "metadata": {},
   "source": [
    "***離群值處理***"
   ]
  },
  {
   "cell_type": "code",
   "execution_count": 49,
   "metadata": {},
   "outputs": [],
   "source": [
    "def remove_outliers(df, column):\n",
    "    Q1 = df[column].quantile(0.25)\n",
    "    Q3 = df[column].quantile(0.75)\n",
    "    IQR = Q3 - Q1\n",
    "    lower_bound = Q1 - 1.5 * IQR\n",
    "    upper_bound = Q3 + 1.5 * IQR\n",
    "    df = df[(df[column] >= lower_bound) & (df[column] <= upper_bound)]\n",
    "    return df\n",
    "for col in numerical_cols:\n",
    "    all_data = remove_outliers(all_data,i)\n",
    "    train = remove_outliers(train,i)"
   ]
  },
  {
   "cell_type": "markdown",
   "metadata": {},
   "source": [
    "***探索式分析***"
   ]
  },
  {
   "cell_type": "code",
   "execution_count": 50,
   "metadata": {},
   "outputs": [
    {
     "name": "stderr",
     "output_type": "stream",
     "text": [
      "C:\\Users\\blade\\AppData\\Local\\Temp\\ipykernel_24124\\1134062110.py:6: UserWarning: Glyph 22303 (\\N{CJK UNIFIED IDEOGRAPH-571F}) missing from current font.\n",
      "  plt.tight_layout()\n",
      "C:\\Users\\blade\\AppData\\Local\\Temp\\ipykernel_24124\\1134062110.py:6: UserWarning: Glyph 22320 (\\N{CJK UNIFIED IDEOGRAPH-5730}) missing from current font.\n",
      "  plt.tight_layout()\n",
      "C:\\Users\\blade\\AppData\\Local\\Temp\\ipykernel_24124\\1134062110.py:6: UserWarning: Glyph 38754 (\\N{CJK UNIFIED IDEOGRAPH-9762}) missing from current font.\n",
      "  plt.tight_layout()\n",
      "C:\\Users\\blade\\AppData\\Local\\Temp\\ipykernel_24124\\1134062110.py:6: UserWarning: Glyph 31309 (\\N{CJK UNIFIED IDEOGRAPH-7A4D}) missing from current font.\n",
      "  plt.tight_layout()\n",
      "C:\\Users\\blade\\AppData\\Local\\Temp\\ipykernel_24124\\1134062110.py:6: UserWarning: Glyph 24314 (\\N{CJK UNIFIED IDEOGRAPH-5EFA}) missing from current font.\n",
      "  plt.tight_layout()\n",
      "C:\\Users\\blade\\AppData\\Local\\Temp\\ipykernel_24124\\1134062110.py:6: UserWarning: Glyph 29289 (\\N{CJK UNIFIED IDEOGRAPH-7269}) missing from current font.\n",
      "  plt.tight_layout()\n",
      "C:\\Users\\blade\\AppData\\Local\\Temp\\ipykernel_24124\\1134062110.py:6: UserWarning: Glyph 32317 (\\N{CJK UNIFIED IDEOGRAPH-7E3D}) missing from current font.\n",
      "  plt.tight_layout()\n",
      "C:\\Users\\blade\\AppData\\Local\\Temp\\ipykernel_24124\\1134062110.py:6: UserWarning: Glyph 38754 (\\N{CJK UNIFIED IDEOGRAPH-9762}) missing from current font.\n",
      "  plt.tight_layout()\n",
      "C:\\Users\\blade\\AppData\\Local\\Temp\\ipykernel_24124\\1134062110.py:6: UserWarning: Glyph 31309 (\\N{CJK UNIFIED IDEOGRAPH-7A4D}) missing from current font.\n",
      "  plt.tight_layout()\n",
      "C:\\Users\\blade\\AppData\\Local\\Temp\\ipykernel_24124\\1134062110.py:6: UserWarning: The figure layout has changed to tight\n",
      "  plt.tight_layout()\n",
      "C:\\Users\\blade\\AppData\\Local\\Temp\\ipykernel_24124\\1134062110.py:6: UserWarning: Glyph 20132 (\\N{CJK UNIFIED IDEOGRAPH-4EA4}) missing from current font.\n",
      "  plt.tight_layout()\n",
      "C:\\Users\\blade\\AppData\\Local\\Temp\\ipykernel_24124\\1134062110.py:6: UserWarning: Glyph 26131 (\\N{CJK UNIFIED IDEOGRAPH-6613}) missing from current font.\n",
      "  plt.tight_layout()\n",
      "C:\\Users\\blade\\AppData\\Local\\Temp\\ipykernel_24124\\1134062110.py:6: UserWarning: Glyph 24180 (\\N{CJK UNIFIED IDEOGRAPH-5E74}) missing from current font.\n",
      "  plt.tight_layout()\n",
      "C:\\Users\\blade\\AppData\\Local\\Temp\\ipykernel_24124\\1134062110.py:6: UserWarning: Glyph 26376 (\\N{CJK UNIFIED IDEOGRAPH-6708}) missing from current font.\n",
      "  plt.tight_layout()\n",
      "C:\\Users\\blade\\AppData\\Local\\Temp\\ipykernel_24124\\1134062110.py:6: UserWarning: Glyph 26085 (\\N{CJK UNIFIED IDEOGRAPH-65E5}) missing from current font.\n",
      "  plt.tight_layout()\n",
      "C:\\Users\\blade\\AppData\\Local\\Temp\\ipykernel_24124\\1134062110.py:6: UserWarning: The figure layout has changed to tight\n",
      "  plt.tight_layout()\n",
      "C:\\Users\\blade\\AppData\\Local\\Temp\\ipykernel_24124\\1134062110.py:6: UserWarning: Glyph 25151 (\\N{CJK UNIFIED IDEOGRAPH-623F}) missing from current font.\n",
      "  plt.tight_layout()\n",
      "C:\\Users\\blade\\AppData\\Local\\Temp\\ipykernel_24124\\1134062110.py:6: UserWarning: Glyph 25976 (\\N{CJK UNIFIED IDEOGRAPH-6578}) missing from current font.\n",
      "  plt.tight_layout()\n",
      "C:\\Users\\blade\\AppData\\Local\\Temp\\ipykernel_24124\\1134062110.py:6: UserWarning: The figure layout has changed to tight\n",
      "  plt.tight_layout()\n",
      "C:\\Users\\blade\\AppData\\Local\\Temp\\ipykernel_24124\\1134062110.py:6: UserWarning: Glyph 24307 (\\N{CJK UNIFIED IDEOGRAPH-5EF3}) missing from current font.\n",
      "  plt.tight_layout()\n",
      "C:\\Users\\blade\\AppData\\Local\\Temp\\ipykernel_24124\\1134062110.py:6: UserWarning: Glyph 25976 (\\N{CJK UNIFIED IDEOGRAPH-6578}) missing from current font.\n",
      "  plt.tight_layout()\n",
      "C:\\Users\\blade\\AppData\\Local\\Temp\\ipykernel_24124\\1134062110.py:6: UserWarning: The figure layout has changed to tight\n",
      "  plt.tight_layout()\n",
      "C:\\Users\\blade\\AppData\\Local\\Temp\\ipykernel_24124\\1134062110.py:6: UserWarning: Glyph 34907 (\\N{CJK UNIFIED IDEOGRAPH-885B}) missing from current font.\n",
      "  plt.tight_layout()\n",
      "C:\\Users\\blade\\AppData\\Local\\Temp\\ipykernel_24124\\1134062110.py:6: UserWarning: Glyph 25976 (\\N{CJK UNIFIED IDEOGRAPH-6578}) missing from current font.\n",
      "  plt.tight_layout()\n",
      "C:\\Users\\blade\\AppData\\Local\\Temp\\ipykernel_24124\\1134062110.py:6: UserWarning: The figure layout has changed to tight\n",
      "  plt.tight_layout()\n",
      "C:\\Users\\blade\\AppData\\Local\\Temp\\ipykernel_24124\\1134062110.py:6: UserWarning: Glyph 36554 (\\N{CJK UNIFIED IDEOGRAPH-8ECA}) missing from current font.\n",
      "  plt.tight_layout()\n",
      "C:\\Users\\blade\\AppData\\Local\\Temp\\ipykernel_24124\\1134062110.py:6: UserWarning: Glyph 20301 (\\N{CJK UNIFIED IDEOGRAPH-4F4D}) missing from current font.\n",
      "  plt.tight_layout()\n",
      "C:\\Users\\blade\\AppData\\Local\\Temp\\ipykernel_24124\\1134062110.py:6: UserWarning: Glyph 31227 (\\N{CJK UNIFIED IDEOGRAPH-79FB}) missing from current font.\n",
      "  plt.tight_layout()\n",
      "C:\\Users\\blade\\AppData\\Local\\Temp\\ipykernel_24124\\1134062110.py:6: UserWarning: Glyph 36681 (\\N{CJK UNIFIED IDEOGRAPH-8F49}) missing from current font.\n",
      "  plt.tight_layout()\n",
      "C:\\Users\\blade\\AppData\\Local\\Temp\\ipykernel_24124\\1134062110.py:6: UserWarning: Glyph 32317 (\\N{CJK UNIFIED IDEOGRAPH-7E3D}) missing from current font.\n",
      "  plt.tight_layout()\n",
      "C:\\Users\\blade\\AppData\\Local\\Temp\\ipykernel_24124\\1134062110.py:6: UserWarning: Glyph 38754 (\\N{CJK UNIFIED IDEOGRAPH-9762}) missing from current font.\n",
      "  plt.tight_layout()\n",
      "C:\\Users\\blade\\AppData\\Local\\Temp\\ipykernel_24124\\1134062110.py:6: UserWarning: Glyph 31309 (\\N{CJK UNIFIED IDEOGRAPH-7A4D}) missing from current font.\n",
      "  plt.tight_layout()\n",
      "C:\\Users\\blade\\AppData\\Local\\Temp\\ipykernel_24124\\1134062110.py:6: UserWarning: The figure layout has changed to tight\n",
      "  plt.tight_layout()\n",
      "C:\\Users\\blade\\AppData\\Local\\Temp\\ipykernel_24124\\1134062110.py:6: UserWarning: Glyph 36554 (\\N{CJK UNIFIED IDEOGRAPH-8ECA}) missing from current font.\n",
      "  plt.tight_layout()\n",
      "C:\\Users\\blade\\AppData\\Local\\Temp\\ipykernel_24124\\1134062110.py:6: UserWarning: Glyph 20301 (\\N{CJK UNIFIED IDEOGRAPH-4F4D}) missing from current font.\n",
      "  plt.tight_layout()\n",
      "C:\\Users\\blade\\AppData\\Local\\Temp\\ipykernel_24124\\1134062110.py:6: UserWarning: Glyph 32317 (\\N{CJK UNIFIED IDEOGRAPH-7E3D}) missing from current font.\n",
      "  plt.tight_layout()\n",
      "C:\\Users\\blade\\AppData\\Local\\Temp\\ipykernel_24124\\1134062110.py:6: UserWarning: Glyph 20729 (\\N{CJK UNIFIED IDEOGRAPH-50F9}) missing from current font.\n",
      "  plt.tight_layout()\n",
      "C:\\Users\\blade\\AppData\\Local\\Temp\\ipykernel_24124\\1134062110.py:6: UserWarning: The figure layout has changed to tight\n",
      "  plt.tight_layout()\n",
      "c:\\Users\\blade\\anaconda3\\envs\\DL\\lib\\site-packages\\IPython\\core\\pylabtools.py:152: UserWarning: Glyph 22303 (\\N{CJK UNIFIED IDEOGRAPH-571F}) missing from current font.\n",
      "  fig.canvas.print_figure(bytes_io, **kw)\n",
      "c:\\Users\\blade\\anaconda3\\envs\\DL\\lib\\site-packages\\IPython\\core\\pylabtools.py:152: UserWarning: Glyph 22320 (\\N{CJK UNIFIED IDEOGRAPH-5730}) missing from current font.\n",
      "  fig.canvas.print_figure(bytes_io, **kw)\n",
      "c:\\Users\\blade\\anaconda3\\envs\\DL\\lib\\site-packages\\IPython\\core\\pylabtools.py:152: UserWarning: Glyph 38754 (\\N{CJK UNIFIED IDEOGRAPH-9762}) missing from current font.\n",
      "  fig.canvas.print_figure(bytes_io, **kw)\n",
      "c:\\Users\\blade\\anaconda3\\envs\\DL\\lib\\site-packages\\IPython\\core\\pylabtools.py:152: UserWarning: Glyph 31309 (\\N{CJK UNIFIED IDEOGRAPH-7A4D}) missing from current font.\n",
      "  fig.canvas.print_figure(bytes_io, **kw)\n",
      "c:\\Users\\blade\\anaconda3\\envs\\DL\\lib\\site-packages\\IPython\\core\\pylabtools.py:152: UserWarning: Glyph 24314 (\\N{CJK UNIFIED IDEOGRAPH-5EFA}) missing from current font.\n",
      "  fig.canvas.print_figure(bytes_io, **kw)\n",
      "c:\\Users\\blade\\anaconda3\\envs\\DL\\lib\\site-packages\\IPython\\core\\pylabtools.py:152: UserWarning: Glyph 29289 (\\N{CJK UNIFIED IDEOGRAPH-7269}) missing from current font.\n",
      "  fig.canvas.print_figure(bytes_io, **kw)\n",
      "c:\\Users\\blade\\anaconda3\\envs\\DL\\lib\\site-packages\\IPython\\core\\pylabtools.py:152: UserWarning: Glyph 32317 (\\N{CJK UNIFIED IDEOGRAPH-7E3D}) missing from current font.\n",
      "  fig.canvas.print_figure(bytes_io, **kw)\n",
      "c:\\Users\\blade\\anaconda3\\envs\\DL\\lib\\site-packages\\IPython\\core\\pylabtools.py:152: UserWarning: Glyph 20132 (\\N{CJK UNIFIED IDEOGRAPH-4EA4}) missing from current font.\n",
      "  fig.canvas.print_figure(bytes_io, **kw)\n",
      "c:\\Users\\blade\\anaconda3\\envs\\DL\\lib\\site-packages\\IPython\\core\\pylabtools.py:152: UserWarning: Glyph 26131 (\\N{CJK UNIFIED IDEOGRAPH-6613}) missing from current font.\n",
      "  fig.canvas.print_figure(bytes_io, **kw)\n",
      "c:\\Users\\blade\\anaconda3\\envs\\DL\\lib\\site-packages\\IPython\\core\\pylabtools.py:152: UserWarning: Glyph 24180 (\\N{CJK UNIFIED IDEOGRAPH-5E74}) missing from current font.\n",
      "  fig.canvas.print_figure(bytes_io, **kw)\n",
      "c:\\Users\\blade\\anaconda3\\envs\\DL\\lib\\site-packages\\IPython\\core\\pylabtools.py:152: UserWarning: Glyph 26376 (\\N{CJK UNIFIED IDEOGRAPH-6708}) missing from current font.\n",
      "  fig.canvas.print_figure(bytes_io, **kw)\n",
      "c:\\Users\\blade\\anaconda3\\envs\\DL\\lib\\site-packages\\IPython\\core\\pylabtools.py:152: UserWarning: Glyph 26085 (\\N{CJK UNIFIED IDEOGRAPH-65E5}) missing from current font.\n",
      "  fig.canvas.print_figure(bytes_io, **kw)\n",
      "c:\\Users\\blade\\anaconda3\\envs\\DL\\lib\\site-packages\\IPython\\core\\pylabtools.py:152: UserWarning: Glyph 25151 (\\N{CJK UNIFIED IDEOGRAPH-623F}) missing from current font.\n",
      "  fig.canvas.print_figure(bytes_io, **kw)\n",
      "c:\\Users\\blade\\anaconda3\\envs\\DL\\lib\\site-packages\\IPython\\core\\pylabtools.py:152: UserWarning: Glyph 25976 (\\N{CJK UNIFIED IDEOGRAPH-6578}) missing from current font.\n",
      "  fig.canvas.print_figure(bytes_io, **kw)\n",
      "c:\\Users\\blade\\anaconda3\\envs\\DL\\lib\\site-packages\\IPython\\core\\pylabtools.py:152: UserWarning: Glyph 24307 (\\N{CJK UNIFIED IDEOGRAPH-5EF3}) missing from current font.\n",
      "  fig.canvas.print_figure(bytes_io, **kw)\n",
      "c:\\Users\\blade\\anaconda3\\envs\\DL\\lib\\site-packages\\IPython\\core\\pylabtools.py:152: UserWarning: Glyph 34907 (\\N{CJK UNIFIED IDEOGRAPH-885B}) missing from current font.\n",
      "  fig.canvas.print_figure(bytes_io, **kw)\n",
      "c:\\Users\\blade\\anaconda3\\envs\\DL\\lib\\site-packages\\IPython\\core\\pylabtools.py:152: UserWarning: Glyph 36554 (\\N{CJK UNIFIED IDEOGRAPH-8ECA}) missing from current font.\n",
      "  fig.canvas.print_figure(bytes_io, **kw)\n",
      "c:\\Users\\blade\\anaconda3\\envs\\DL\\lib\\site-packages\\IPython\\core\\pylabtools.py:152: UserWarning: Glyph 20301 (\\N{CJK UNIFIED IDEOGRAPH-4F4D}) missing from current font.\n",
      "  fig.canvas.print_figure(bytes_io, **kw)\n",
      "c:\\Users\\blade\\anaconda3\\envs\\DL\\lib\\site-packages\\IPython\\core\\pylabtools.py:152: UserWarning: Glyph 31227 (\\N{CJK UNIFIED IDEOGRAPH-79FB}) missing from current font.\n",
      "  fig.canvas.print_figure(bytes_io, **kw)\n",
      "c:\\Users\\blade\\anaconda3\\envs\\DL\\lib\\site-packages\\IPython\\core\\pylabtools.py:152: UserWarning: Glyph 36681 (\\N{CJK UNIFIED IDEOGRAPH-8F49}) missing from current font.\n",
      "  fig.canvas.print_figure(bytes_io, **kw)\n",
      "c:\\Users\\blade\\anaconda3\\envs\\DL\\lib\\site-packages\\IPython\\core\\pylabtools.py:152: UserWarning: Glyph 20729 (\\N{CJK UNIFIED IDEOGRAPH-50F9}) missing from current font.\n",
      "  fig.canvas.print_figure(bytes_io, **kw)\n"
     ]
    },
    {
     "data": {
      "image/png": "[encoded data removed]",
      "text/plain": [
       "<Figure size 1500x1000 with 8 Axes>"
      ]
     },
     "metadata": {},
     "output_type": "display_data"
    }
   ],
   "source": [
    "plt.figure(figsize=(15, 10))\n",
    "for i, col in enumerate(numerical_cols, 1):\n",
    "    plt.subplot(3, 3, i)\n",
    "    sns.boxplot(y=train[col])\n",
    "    plt.title(col)\n",
    "    plt.tight_layout()\n",
    "plt.show()"
   ]
  },
  {
   "cell_type": "markdown",
   "metadata": {},
   "source": [
    "***相關係數觀察***"
   ]
  },
  {
   "cell_type": "code",
   "execution_count": 51,
   "metadata": {},
   "outputs": [
    {
     "name": "stderr",
     "output_type": "stream",
     "text": [
      "c:\\Users\\blade\\anaconda3\\envs\\DL\\lib\\site-packages\\seaborn\\utils.py:80: UserWarning: Glyph 22303 (\\N{CJK UNIFIED IDEOGRAPH-571F}) missing from current font.\n",
      "  fig.canvas.draw()\n",
      "c:\\Users\\blade\\anaconda3\\envs\\DL\\lib\\site-packages\\seaborn\\utils.py:80: UserWarning: Glyph 22320 (\\N{CJK UNIFIED IDEOGRAPH-5730}) missing from current font.\n",
      "  fig.canvas.draw()\n",
      "c:\\Users\\blade\\anaconda3\\envs\\DL\\lib\\site-packages\\seaborn\\utils.py:80: UserWarning: Glyph 38754 (\\N{CJK UNIFIED IDEOGRAPH-9762}) missing from current font.\n",
      "  fig.canvas.draw()\n",
      "c:\\Users\\blade\\anaconda3\\envs\\DL\\lib\\site-packages\\seaborn\\utils.py:80: UserWarning: Glyph 31309 (\\N{CJK UNIFIED IDEOGRAPH-7A4D}) missing from current font.\n",
      "  fig.canvas.draw()\n",
      "c:\\Users\\blade\\anaconda3\\envs\\DL\\lib\\site-packages\\seaborn\\utils.py:80: UserWarning: Glyph 24314 (\\N{CJK UNIFIED IDEOGRAPH-5EFA}) missing from current font.\n",
      "  fig.canvas.draw()\n",
      "c:\\Users\\blade\\anaconda3\\envs\\DL\\lib\\site-packages\\seaborn\\utils.py:80: UserWarning: Glyph 29289 (\\N{CJK UNIFIED IDEOGRAPH-7269}) missing from current font.\n",
      "  fig.canvas.draw()\n",
      "c:\\Users\\blade\\anaconda3\\envs\\DL\\lib\\site-packages\\seaborn\\utils.py:80: UserWarning: Glyph 32317 (\\N{CJK UNIFIED IDEOGRAPH-7E3D}) missing from current font.\n",
      "  fig.canvas.draw()\n",
      "c:\\Users\\blade\\anaconda3\\envs\\DL\\lib\\site-packages\\seaborn\\utils.py:80: UserWarning: Glyph 20132 (\\N{CJK UNIFIED IDEOGRAPH-4EA4}) missing from current font.\n",
      "  fig.canvas.draw()\n",
      "c:\\Users\\blade\\anaconda3\\envs\\DL\\lib\\site-packages\\seaborn\\utils.py:80: UserWarning: Glyph 26131 (\\N{CJK UNIFIED IDEOGRAPH-6613}) missing from current font.\n",
      "  fig.canvas.draw()\n",
      "c:\\Users\\blade\\anaconda3\\envs\\DL\\lib\\site-packages\\seaborn\\utils.py:80: UserWarning: Glyph 24180 (\\N{CJK UNIFIED IDEOGRAPH-5E74}) missing from current font.\n",
      "  fig.canvas.draw()\n",
      "c:\\Users\\blade\\anaconda3\\envs\\DL\\lib\\site-packages\\seaborn\\utils.py:80: UserWarning: Glyph 26376 (\\N{CJK UNIFIED IDEOGRAPH-6708}) missing from current font.\n",
      "  fig.canvas.draw()\n",
      "c:\\Users\\blade\\anaconda3\\envs\\DL\\lib\\site-packages\\seaborn\\utils.py:80: UserWarning: Glyph 26085 (\\N{CJK UNIFIED IDEOGRAPH-65E5}) missing from current font.\n",
      "  fig.canvas.draw()\n",
      "c:\\Users\\blade\\anaconda3\\envs\\DL\\lib\\site-packages\\seaborn\\utils.py:80: UserWarning: Glyph 25151 (\\N{CJK UNIFIED IDEOGRAPH-623F}) missing from current font.\n",
      "  fig.canvas.draw()\n",
      "c:\\Users\\blade\\anaconda3\\envs\\DL\\lib\\site-packages\\seaborn\\utils.py:80: UserWarning: Glyph 25976 (\\N{CJK UNIFIED IDEOGRAPH-6578}) missing from current font.\n",
      "  fig.canvas.draw()\n",
      "c:\\Users\\blade\\anaconda3\\envs\\DL\\lib\\site-packages\\seaborn\\utils.py:80: UserWarning: Glyph 24307 (\\N{CJK UNIFIED IDEOGRAPH-5EF3}) missing from current font.\n",
      "  fig.canvas.draw()\n",
      "c:\\Users\\blade\\anaconda3\\envs\\DL\\lib\\site-packages\\seaborn\\utils.py:80: UserWarning: Glyph 34907 (\\N{CJK UNIFIED IDEOGRAPH-885B}) missing from current font.\n",
      "  fig.canvas.draw()\n",
      "c:\\Users\\blade\\anaconda3\\envs\\DL\\lib\\site-packages\\seaborn\\utils.py:80: UserWarning: Glyph 36554 (\\N{CJK UNIFIED IDEOGRAPH-8ECA}) missing from current font.\n",
      "  fig.canvas.draw()\n",
      "c:\\Users\\blade\\anaconda3\\envs\\DL\\lib\\site-packages\\seaborn\\utils.py:80: UserWarning: Glyph 20301 (\\N{CJK UNIFIED IDEOGRAPH-4F4D}) missing from current font.\n",
      "  fig.canvas.draw()\n",
      "c:\\Users\\blade\\anaconda3\\envs\\DL\\lib\\site-packages\\seaborn\\utils.py:80: UserWarning: Glyph 31227 (\\N{CJK UNIFIED IDEOGRAPH-79FB}) missing from current font.\n",
      "  fig.canvas.draw()\n",
      "c:\\Users\\blade\\anaconda3\\envs\\DL\\lib\\site-packages\\seaborn\\utils.py:80: UserWarning: Glyph 36681 (\\N{CJK UNIFIED IDEOGRAPH-8F49}) missing from current font.\n",
      "  fig.canvas.draw()\n",
      "c:\\Users\\blade\\anaconda3\\envs\\DL\\lib\\site-packages\\seaborn\\utils.py:80: UserWarning: Glyph 20729 (\\N{CJK UNIFIED IDEOGRAPH-50F9}) missing from current font.\n",
      "  fig.canvas.draw()\n",
      "c:\\Users\\blade\\anaconda3\\envs\\DL\\lib\\site-packages\\IPython\\core\\pylabtools.py:152: UserWarning: Glyph 22303 (\\N{CJK UNIFIED IDEOGRAPH-571F}) missing from current font.\n",
      "  fig.canvas.print_figure(bytes_io, **kw)\n",
      "c:\\Users\\blade\\anaconda3\\envs\\DL\\lib\\site-packages\\IPython\\core\\pylabtools.py:152: UserWarning: Glyph 22320 (\\N{CJK UNIFIED IDEOGRAPH-5730}) missing from current font.\n",
      "  fig.canvas.print_figure(bytes_io, **kw)\n",
      "c:\\Users\\blade\\anaconda3\\envs\\DL\\lib\\site-packages\\IPython\\core\\pylabtools.py:152: UserWarning: Glyph 38754 (\\N{CJK UNIFIED IDEOGRAPH-9762}) missing from current font.\n",
      "  fig.canvas.print_figure(bytes_io, **kw)\n",
      "c:\\Users\\blade\\anaconda3\\envs\\DL\\lib\\site-packages\\IPython\\core\\pylabtools.py:152: UserWarning: Glyph 31309 (\\N{CJK UNIFIED IDEOGRAPH-7A4D}) missing from current font.\n",
      "  fig.canvas.print_figure(bytes_io, **kw)\n",
      "c:\\Users\\blade\\anaconda3\\envs\\DL\\lib\\site-packages\\IPython\\core\\pylabtools.py:152: UserWarning: Glyph 24314 (\\N{CJK UNIFIED IDEOGRAPH-5EFA}) missing from current font.\n",
      "  fig.canvas.print_figure(bytes_io, **kw)\n",
      "c:\\Users\\blade\\anaconda3\\envs\\DL\\lib\\site-packages\\IPython\\core\\pylabtools.py:152: UserWarning: Glyph 29289 (\\N{CJK UNIFIED IDEOGRAPH-7269}) missing from current font.\n",
      "  fig.canvas.print_figure(bytes_io, **kw)\n",
      "c:\\Users\\blade\\anaconda3\\envs\\DL\\lib\\site-packages\\IPython\\core\\pylabtools.py:152: UserWarning: Glyph 32317 (\\N{CJK UNIFIED IDEOGRAPH-7E3D}) missing from current font.\n",
      "  fig.canvas.print_figure(bytes_io, **kw)\n",
      "c:\\Users\\blade\\anaconda3\\envs\\DL\\lib\\site-packages\\IPython\\core\\pylabtools.py:152: UserWarning: Glyph 20132 (\\N{CJK UNIFIED IDEOGRAPH-4EA4}) missing from current font.\n",
      "  fig.canvas.print_figure(bytes_io, **kw)\n",
      "c:\\Users\\blade\\anaconda3\\envs\\DL\\lib\\site-packages\\IPython\\core\\pylabtools.py:152: UserWarning: Glyph 26131 (\\N{CJK UNIFIED IDEOGRAPH-6613}) missing from current font.\n",
      "  fig.canvas.print_figure(bytes_io, **kw)\n",
      "c:\\Users\\blade\\anaconda3\\envs\\DL\\lib\\site-packages\\IPython\\core\\pylabtools.py:152: UserWarning: Glyph 24180 (\\N{CJK UNIFIED IDEOGRAPH-5E74}) missing from current font.\n",
      "  fig.canvas.print_figure(bytes_io, **kw)\n",
      "c:\\Users\\blade\\anaconda3\\envs\\DL\\lib\\site-packages\\IPython\\core\\pylabtools.py:152: UserWarning: Glyph 26376 (\\N{CJK UNIFIED IDEOGRAPH-6708}) missing from current font.\n",
      "  fig.canvas.print_figure(bytes_io, **kw)\n",
      "c:\\Users\\blade\\anaconda3\\envs\\DL\\lib\\site-packages\\IPython\\core\\pylabtools.py:152: UserWarning: Glyph 26085 (\\N{CJK UNIFIED IDEOGRAPH-65E5}) missing from current font.\n",
      "  fig.canvas.print_figure(bytes_io, **kw)\n",
      "c:\\Users\\blade\\anaconda3\\envs\\DL\\lib\\site-packages\\IPython\\core\\pylabtools.py:152: UserWarning: Glyph 25151 (\\N{CJK UNIFIED IDEOGRAPH-623F}) missing from current font.\n",
      "  fig.canvas.print_figure(bytes_io, **kw)\n",
      "c:\\Users\\blade\\anaconda3\\envs\\DL\\lib\\site-packages\\IPython\\core\\pylabtools.py:152: UserWarning: Glyph 25976 (\\N{CJK UNIFIED IDEOGRAPH-6578}) missing from current font.\n",
      "  fig.canvas.print_figure(bytes_io, **kw)\n",
      "c:\\Users\\blade\\anaconda3\\envs\\DL\\lib\\site-packages\\IPython\\core\\pylabtools.py:152: UserWarning: Glyph 24307 (\\N{CJK UNIFIED IDEOGRAPH-5EF3}) missing from current font.\n",
      "  fig.canvas.print_figure(bytes_io, **kw)\n",
      "c:\\Users\\blade\\anaconda3\\envs\\DL\\lib\\site-packages\\IPython\\core\\pylabtools.py:152: UserWarning: Glyph 34907 (\\N{CJK UNIFIED IDEOGRAPH-885B}) missing from current font.\n",
      "  fig.canvas.print_figure(bytes_io, **kw)\n",
      "c:\\Users\\blade\\anaconda3\\envs\\DL\\lib\\site-packages\\IPython\\core\\pylabtools.py:152: UserWarning: Glyph 36554 (\\N{CJK UNIFIED IDEOGRAPH-8ECA}) missing from current font.\n",
      "  fig.canvas.print_figure(bytes_io, **kw)\n",
      "c:\\Users\\blade\\anaconda3\\envs\\DL\\lib\\site-packages\\IPython\\core\\pylabtools.py:152: UserWarning: Glyph 20301 (\\N{CJK UNIFIED IDEOGRAPH-4F4D}) missing from current font.\n",
      "  fig.canvas.print_figure(bytes_io, **kw)\n",
      "c:\\Users\\blade\\anaconda3\\envs\\DL\\lib\\site-packages\\IPython\\core\\pylabtools.py:152: UserWarning: Glyph 31227 (\\N{CJK UNIFIED IDEOGRAPH-79FB}) missing from current font.\n",
      "  fig.canvas.print_figure(bytes_io, **kw)\n",
      "c:\\Users\\blade\\anaconda3\\envs\\DL\\lib\\site-packages\\IPython\\core\\pylabtools.py:152: UserWarning: Glyph 36681 (\\N{CJK UNIFIED IDEOGRAPH-8F49}) missing from current font.\n",
      "  fig.canvas.print_figure(bytes_io, **kw)\n",
      "c:\\Users\\blade\\anaconda3\\envs\\DL\\lib\\site-packages\\IPython\\core\\pylabtools.py:152: UserWarning: Glyph 20729 (\\N{CJK UNIFIED IDEOGRAPH-50F9}) missing from current font.\n",
      "  fig.canvas.print_figure(bytes_io, **kw)\n"
     ]
    },
    {
     "data": {
      "image/png": "[encoded data removed]",
      "text/plain": [
       "<Figure size 1200x800 with 2 Axes>"
      ]
     },
     "metadata": {},
     "output_type": "display_data"
    }
   ],
   "source": [
    "corr = all_data[numerical_cols].corr()\n",
    "\n",
    "plt.figure(figsize=(12, 8))\n",
    "sns.heatmap(corr, annot=True, cmap='coolwarm', fmt='.2f', linewidths=0.5)\n",
    "plt.title(\"Correlation Matrix\")\n",
    "plt.show()"
   ]
  },
  {
   "cell_type": "code",
   "execution_count": 52,
   "metadata": {},
   "outputs": [],
   "source": [
    "all_data['車位移轉總面積'].fillna(0,inplace = True)\n",
    "train['車位移轉總面積'].fillna(0,inplace = True)\n",
    "test['車位移轉總面積'].fillna(0,inplace = True)"
   ]
  },
  {
   "cell_type": "markdown",
   "metadata": {},
   "source": [
    "***遺漏值填補及數據轉換***"
   ]
  },
  {
   "cell_type": "code",
   "execution_count": 53,
   "metadata": {},
   "outputs": [],
   "source": [
    "from sklearn.impute import SimpleImputer\n",
    "from sklearn.pipeline import Pipeline\n",
    "from sklearn.preprocessing import StandardScaler,OneHotEncoder\n",
    "from sklearn.compose import ColumnTransformer\n",
    "from sklearn.ensemble import RandomForestRegressor\n",
    "from sklearn.model_selection import train_test_split\n",
    "from sklearn.model_selection import GridSearchCV,train_test_split\n",
    "from xgboost import XGBRegressor\n",
    "y = train['總價']\n",
    "train = train.drop(columns='總價')\n",
    "numerical_transformer = Pipeline(steps=[\n",
    "    ('imputer',SimpleImputer(strategy='median')),\n",
    "    ('StandScaler',StandardScaler())\n",
    "])\n",
    "\n",
    "\n",
    "categorical_transformer = Pipeline(steps=[\n",
    "    ('imputer',SimpleImputer(strategy='most_frequent')),\n",
    "    ('onehot',OneHotEncoder(handle_unknown='ignore'))\n",
    "])\n",
    "\n",
    "preprocessor = ColumnTransformer(\n",
    "    transformers=[\n",
    "        ('num',numerical_transformer,numerical_cols),\n",
    "        ('cat',categorical_transformer,categorical_cols)\n",
    "    ])\n",
    "preprocessor.fit(all_data)\n",
    "\n",
    "train = preprocessor.transform(train)\n",
    "test = preprocessor.transform(test)\n"
   ]
  },
  {
   "cell_type": "code",
   "execution_count": 54,
   "metadata": {},
   "outputs": [],
   "source": [
    "from sklearn.ensemble import RandomForestRegressor\n",
    "\n",
    "rf = RandomForestRegressor(n_estimators=1000, random_state=42,n_jobs= -1)\n",
    "rf.fit(train,y)\n",
    "\n",
    "y_pred_rf = rf.predict(test)"
   ]
  },
  {
   "cell_type": "markdown",
   "metadata": {},
   "source": [
    "***檢查輸入型態***"
   ]
  },
  {
   "cell_type": "code",
   "execution_count": 55,
   "metadata": {},
   "outputs": [
    {
     "name": "stdout",
     "output_type": "stream",
     "text": [
      "(119404, 13033)\n",
      "(30000, 13033)\n"
     ]
    }
   ],
   "source": [
    "print(train.shape)\n",
    "print(test.shape)"
   ]
  },
  {
   "cell_type": "markdown",
   "metadata": {},
   "source": [
    "***建模***"
   ]
  },
  {
   "cell_type": "code",
   "execution_count": 56,
   "metadata": {},
   "outputs": [
    {
     "data": {
      "text/html": [
       "<style>#sk-container-id-1 {color: black;}#sk-container-id-1 pre{padding: 0;}#sk-container-id-1 div.sk-toggleable {background-color: white;}#sk-container-id-1 label.sk-toggleable__label {cursor: pointer;display: block;width: 100%;margin-bottom: 0;padding: 0.3em;box-sizing: border-box;text-align: center;}#sk-container-id-1 label.sk-toggleable__label-arrow:before {content: \"▸\";float: left;margin-right: 0.25em;color: #696969;}#sk-container-id-1 label.sk-toggleable__label-arrow:hover:before {color: black;}#sk-container-id-1 div.sk-estimator:hover label.sk-toggleable__label-arrow:before {color: black;}#sk-container-id-1 div.sk-toggleable__content {max-height: 0;max-width: 0;overflow: hidden;text-align: left;background-color: #f0f8ff;}#sk-container-id-1 div.sk-toggleable__content pre {margin: 0.2em;color: black;border-radius: 0.25em;background-color: #f0f8ff;}#sk-container-id-1 input.sk-toggleable__control:checked~div.sk-toggleable__content {max-height: 200px;max-width: 100%;overflow: auto;}#sk-container-id-1 input.sk-toggleable__control:checked~label.sk-toggleable__label-arrow:before {content: \"▾\";}#sk-container-id-1 div.sk-estimator input.sk-toggleable__control:checked~label.sk-toggleable__label {background-color: #d4ebff;}#sk-container-id-1 div.sk-label input.sk-toggleable__control:checked~label.sk-toggleable__label {background-color: #d4ebff;}#sk-container-id-1 input.sk-hidden--visually {border: 0;clip: rect(1px 1px 1px 1px);clip: rect(1px, 1px, 1px, 1px);height: 1px;margin: -1px;overflow: hidden;padding: 0;position: absolute;width: 1px;}#sk-container-id-1 div.sk-estimator {font-family: monospace;background-color: #f0f8ff;border: 1px dotted black;border-radius: 0.25em;box-sizing: border-box;margin-bottom: 0.5em;}#sk-container-id-1 div.sk-estimator:hover {background-color: #d4ebff;}#sk-container-id-1 div.sk-parallel-item::after {content: \"\";width: 100%;border-bottom: 1px solid gray;flex-grow: 1;}#sk-container-id-1 div.sk-label:hover label.sk-toggleable__label {background-color: #d4ebff;}#sk-container-id-1 div.sk-serial::before {content: \"\";position: absolute;border-left: 1px solid gray;box-sizing: border-box;top: 0;bottom: 0;left: 50%;z-index: 0;}#sk-container-id-1 div.sk-serial {display: flex;flex-direction: column;align-items: center;background-color: white;padding-right: 0.2em;padding-left: 0.2em;position: relative;}#sk-container-id-1 div.sk-item {position: relative;z-index: 1;}#sk-container-id-1 div.sk-parallel {display: flex;align-items: stretch;justify-content: center;background-color: white;position: relative;}#sk-container-id-1 div.sk-item::before, #sk-container-id-1 div.sk-parallel-item::before {content: \"\";position: absolute;border-left: 1px solid gray;box-sizing: border-box;top: 0;bottom: 0;left: 50%;z-index: -1;}#sk-container-id-1 div.sk-parallel-item {display: flex;flex-direction: column;z-index: 1;position: relative;background-color: white;}#sk-container-id-1 div.sk-parallel-item:first-child::after {align-self: flex-end;width: 50%;}#sk-container-id-1 div.sk-parallel-item:last-child::after {align-self: flex-start;width: 50%;}#sk-container-id-1 div.sk-parallel-item:only-child::after {width: 0;}#sk-container-id-1 div.sk-dashed-wrapped {border: 1px dashed gray;margin: 0 0.4em 0.5em 0.4em;box-sizing: border-box;padding-bottom: 0.4em;background-color: white;}#sk-container-id-1 div.sk-label label {font-family: monospace;font-weight: bold;display: inline-block;line-height: 1.2em;}#sk-container-id-1 div.sk-label-container {text-align: center;}#sk-container-id-1 div.sk-container {/* jupyter's `normalize.less` sets `[hidden] { display: none; }` but bootstrap.min.css set `[hidden] { display: none !important; }` so we also need the `!important` here to be able to override the default hidden behavior on the sphinx rendered scikit-learn.org. See: https://github.com/scikit-learn/scikit-learn/issues/21755 */display: inline-block !important;position: relative;}#sk-container-id-1 div.sk-text-repr-fallback {display: none;}</style><div id=\"sk-container-id-1\" class=\"sk-top-container\"><div class=\"sk-text-repr-fallback\"><pre>XGBRegressor(base_score=None, booster=None, callbacks=None,\n",
       "             colsample_bylevel=None, colsample_bynode=None,\n",
       "             colsample_bytree=None, early_stopping_rounds=None,\n",
       "             enable_categorical=False, eval_metric=None, feature_types=None,\n",
       "             gamma=None, gpu_id=None, grow_policy=None, importance_type=None,\n",
       "             interaction_constraints=None, learning_rate=None, max_bin=None,\n",
       "             max_cat_threshold=None, max_cat_to_onehot=None,\n",
       "             max_delta_step=None, max_depth=None, max_leaves=None,\n",
       "             min_child_weight=None, missing=nan, monotone_constraints=None,\n",
       "             n_estimators=10000, n_jobs=None, num_parallel_tree=None,\n",
       "             predictor=None, random_state=None, ...)</pre><b>In a Jupyter environment, please rerun this cell to show the HTML representation or trust the notebook. <br />On GitHub, the HTML representation is unable to render, please try loading this page with nbviewer.org.</b></div><div class=\"sk-container\" hidden><div class=\"sk-item\"><div class=\"sk-estimator sk-toggleable\"><input class=\"sk-toggleable__control sk-hidden--visually\" id=\"sk-estimator-id-1\" type=\"checkbox\" checked><label for=\"sk-estimator-id-1\" class=\"sk-toggleable__label sk-toggleable__label-arrow\">XGBRegressor</label><div class=\"sk-toggleable__content\"><pre>XGBRegressor(base_score=None, booster=None, callbacks=None,\n",
       "             colsample_bylevel=None, colsample_bynode=None,\n",
       "             colsample_bytree=None, early_stopping_rounds=None,\n",
       "             enable_categorical=False, eval_metric=None, feature_types=None,\n",
       "             gamma=None, gpu_id=None, grow_policy=None, importance_type=None,\n",
       "             interaction_constraints=None, learning_rate=None, max_bin=None,\n",
       "             max_cat_threshold=None, max_cat_to_onehot=None,\n",
       "             max_delta_step=None, max_depth=None, max_leaves=None,\n",
       "             min_child_weight=None, missing=nan, monotone_constraints=None,\n",
       "             n_estimators=10000, n_jobs=None, num_parallel_tree=None,\n",
       "             predictor=None, random_state=None, ...)</pre></div></div></div></div></div>"
      ],
      "text/plain": [
       "XGBRegressor(base_score=None, booster=None, callbacks=None,\n",
       "             colsample_bylevel=None, colsample_bynode=None,\n",
       "             colsample_bytree=None, early_stopping_rounds=None,\n",
       "             enable_categorical=False, eval_metric=None, feature_types=None,\n",
       "             gamma=None, gpu_id=None, grow_policy=None, importance_type=None,\n",
       "             interaction_constraints=None, learning_rate=None, max_bin=None,\n",
       "             max_cat_threshold=None, max_cat_to_onehot=None,\n",
       "             max_delta_step=None, max_depth=None, max_leaves=None,\n",
       "             min_child_weight=None, missing=nan, monotone_constraints=None,\n",
       "             n_estimators=10000, n_jobs=None, num_parallel_tree=None,\n",
       "             predictor=None, random_state=None, ...)"
      ]
     },
     "execution_count": 56,
     "metadata": {},
     "output_type": "execute_result"
    }
   ],
   "source": [
    "model = XGBRegressor(n_estimators=10000)\n",
    "\n",
    "model.fit(train, y)"
   ]
  },
  {
   "cell_type": "markdown",
   "metadata": {},
   "source": [
    "***輸出預測結果***"
   ]
  },
  {
   "cell_type": "code",
   "execution_count": 57,
   "metadata": {},
   "outputs": [],
   "source": [
    "y_pred_xgb = model.predict(test)"
   ]
  },
  {
   "cell_type": "code",
   "execution_count": 59,
   "metadata": {},
   "outputs": [
    {
     "name": "stdout",
     "output_type": "stream",
     "text": [
      "[LightGBM] [Warning] Auto-choosing row-wise multi-threading, the overhead of testing was 0.003698 seconds.\n",
      "You can set `force_row_wise=true` to remove the overhead.\n",
      "And if memory is not enough, you can set `force_col_wise=true`.\n",
      "[LightGBM] [Info] Total Bins 3668\n",
      "[LightGBM] [Info] Number of data points in the train set: 119404, number of used features: 1208\n",
      "[LightGBM] [Info] Start training from score 1063.156427\n"
     ]
    }
   ],
   "source": [
    "from lightgbm import LGBMRegressor\n",
    "\n",
    "lgb = LGBMRegressor(n_estimators=10000,n_jobs=-1,reg_lambda=1)\n",
    "\n",
    "lgb.fit(train,y)\n",
    "\n",
    "y_pred_lgb = lgb.predict(test)"
   ]
  },
  {
   "cell_type": "markdown",
   "metadata": {},
   "source": [
    "***預測結果CSV檔輸出***"
   ]
  },
  {
   "cell_type": "code",
   "execution_count": 60,
   "metadata": {},
   "outputs": [],
   "source": [
    "sample = pd.read_csv('sample.csv')\n",
    "sample['總價'] = (y_pred_xgb + y_pred_rf+y_pred_lgb)/3\n",
    "sample.to_csv('Last',index = False)"
   ]
  },
  {
   "cell_type": "code",
   "execution_count": null,
   "metadata": {},
   "outputs": [],
   "source": []
  }
 ],
 "metadata": {
  "kernelspec": {
   "display_name": "DL",
   "language": "python",
   "name": "python3"
  },
  "language_info": {
   "codemirror_mode": {
    "name": "ipython",
    "version": 3
   },
   "file_extension": ".py",
   "mimetype": "text/x-python",
   "name": "python",
   "nbconvert_exporter": "python",
   "pygments_lexer": "ipython3",
   "version": "3.9.17"
  },
  "orig_nbformat": 4
 },
 "nbformat": 4,
 "nbformat_minor": 2
}
